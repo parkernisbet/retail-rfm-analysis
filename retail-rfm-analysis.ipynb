{
 "metadata": {
  "language_info": {
   "codemirror_mode": {
    "name": "ipython",
    "version": 3
   },
   "file_extension": ".py",
   "mimetype": "text/x-python",
   "name": "python",
   "nbconvert_exporter": "python",
   "pygments_lexer": "ipython3",
   "version": "3.8.8"
  },
  "orig_nbformat": 4,
  "kernelspec": {
   "name": "python3",
   "display_name": "Python 3.8.8 64-bit ('anaconda3': virtualenv)"
  },
  "interpreter": {
   "hash": "ead85409a3df2736fa4852a03cf3afe7e5b1dbdc0e40d7d22bbcbf8cf1adf5fa"
  }
 },
 "nbformat": 4,
 "nbformat_minor": 2,
 "cells": [
  {
   "source": [
    "# Retail RFM Analysis"
   ],
   "cell_type": "markdown",
   "metadata": {}
  },
  {
   "source": [
    "This notebook explores RFM (Recency, Frequency, Monetary Value) analysis and customer segmentation via unsupervised clustering. The dataset itself came from a [UCI Machine Learning Repository](https://archive.ics.uci.edu/ml/datasets/Online+Retail+II), and contains nearly three years of UK-based online retail store transactions (01/12/2009 to 09/12/2011). The general overview of steps taken are as follows:\n",
    "\n",
    "    - data cleaning: removing nulls, formatting values, and any other housekeeping\n",
    "    - rfm analysis: three subsections, one for each letter; broken down by customer id\n",
    "        > recency: days since most recent transaction\n",
    "        > frequency: total number of transactions\n",
    "        > monetary value: total revenue amount\n",
    "    - customer segmentation: attaching labels to customer clusters, mitigation steps\n"
   ],
   "cell_type": "markdown",
   "metadata": {}
  },
  {
   "source": [
    "## Data Cleaning"
   ],
   "cell_type": "markdown",
   "metadata": {}
  },
  {
   "source": [
    "Pretty standard data prep here, the only standout step would be the removal of cancelled transactions (those that begin with 'c')."
   ],
   "cell_type": "markdown",
   "metadata": {}
  },
  {
   "cell_type": "code",
   "execution_count": 1,
   "metadata": {},
   "outputs": [],
   "source": [
    "# global module imports\n",
    "import copy\n",
    "import matplotlib.pyplot as plt\n",
    "import numpy as np\n",
    "import pandas as pd\n",
    "import requests\n",
    "from sklearn.cluster import KMeans"
   ]
  },
  {
   "cell_type": "code",
   "execution_count": 2,
   "metadata": {},
   "outputs": [
    {
     "output_type": "execute_result",
     "data": {
      "text/plain": [
       "45622278"
      ]
     },
     "metadata": {},
     "execution_count": 2
    }
   ],
   "source": [
    "# downloading uci dataset\n",
    "url = 'https://archive.ics.uci.edu/ml/machine-learning-databases/00502/online_retail_II.xlsx'\n",
    "\n",
    "f = requests.get(url)\n",
    "\n",
    "open('online_retail_ii.xlsx', 'wb').write(f.content)"
   ]
  },
  {
   "cell_type": "code",
   "execution_count": 3,
   "metadata": {},
   "outputs": [
    {
     "output_type": "execute_result",
     "data": {
      "text/plain": [
       "       Invoice StockCode                          Description  Quantity  \\\n",
       "0       489434     85048  15CM CHRISTMAS GLASS BALL 20 LIGHTS        12   \n",
       "1       489434    79323P                   PINK CHERRY LIGHTS        12   \n",
       "2       489434    79323W                  WHITE CHERRY LIGHTS        12   \n",
       "3       489434     22041         RECORD FRAME 7\" SINGLE SIZE         48   \n",
       "4       489434     21232       STRAWBERRY CERAMIC TRINKET BOX        24   \n",
       "...        ...       ...                                  ...       ...   \n",
       "525456  538171     22271                 FELTCRAFT DOLL ROSIE         2   \n",
       "525457  538171     22750         FELTCRAFT PRINCESS LOLA DOLL         1   \n",
       "525458  538171     22751       FELTCRAFT PRINCESS OLIVIA DOLL         1   \n",
       "525459  538171     20970   PINK FLORAL FELTCRAFT SHOULDER BAG         2   \n",
       "525460  538171     21931               JUMBO STORAGE BAG SUKI         2   \n",
       "\n",
       "               InvoiceDate  Price  Customer ID         Country  \n",
       "0      2009-12-01 07:45:00   6.95      13085.0  United Kingdom  \n",
       "1      2009-12-01 07:45:00   6.75      13085.0  United Kingdom  \n",
       "2      2009-12-01 07:45:00   6.75      13085.0  United Kingdom  \n",
       "3      2009-12-01 07:45:00   2.10      13085.0  United Kingdom  \n",
       "4      2009-12-01 07:45:00   1.25      13085.0  United Kingdom  \n",
       "...                    ...    ...          ...             ...  \n",
       "525456 2010-12-09 20:01:00   2.95      17530.0  United Kingdom  \n",
       "525457 2010-12-09 20:01:00   3.75      17530.0  United Kingdom  \n",
       "525458 2010-12-09 20:01:00   3.75      17530.0  United Kingdom  \n",
       "525459 2010-12-09 20:01:00   3.75      17530.0  United Kingdom  \n",
       "525460 2010-12-09 20:01:00   1.95      17530.0  United Kingdom  \n",
       "\n",
       "[525461 rows x 8 columns]"
      ],
      "text/html": "<div>\n<style scoped>\n    .dataframe tbody tr th:only-of-type {\n        vertical-align: middle;\n    }\n\n    .dataframe tbody tr th {\n        vertical-align: top;\n    }\n\n    .dataframe thead th {\n        text-align: right;\n    }\n</style>\n<table border=\"1\" class=\"dataframe\">\n  <thead>\n    <tr style=\"text-align: right;\">\n      <th></th>\n      <th>Invoice</th>\n      <th>StockCode</th>\n      <th>Description</th>\n      <th>Quantity</th>\n      <th>InvoiceDate</th>\n      <th>Price</th>\n      <th>Customer ID</th>\n      <th>Country</th>\n    </tr>\n  </thead>\n  <tbody>\n    <tr>\n      <th>0</th>\n      <td>489434</td>\n      <td>85048</td>\n      <td>15CM CHRISTMAS GLASS BALL 20 LIGHTS</td>\n      <td>12</td>\n      <td>2009-12-01 07:45:00</td>\n      <td>6.95</td>\n      <td>13085.0</td>\n      <td>United Kingdom</td>\n    </tr>\n    <tr>\n      <th>1</th>\n      <td>489434</td>\n      <td>79323P</td>\n      <td>PINK CHERRY LIGHTS</td>\n      <td>12</td>\n      <td>2009-12-01 07:45:00</td>\n      <td>6.75</td>\n      <td>13085.0</td>\n      <td>United Kingdom</td>\n    </tr>\n    <tr>\n      <th>2</th>\n      <td>489434</td>\n      <td>79323W</td>\n      <td>WHITE CHERRY LIGHTS</td>\n      <td>12</td>\n      <td>2009-12-01 07:45:00</td>\n      <td>6.75</td>\n      <td>13085.0</td>\n      <td>United Kingdom</td>\n    </tr>\n    <tr>\n      <th>3</th>\n      <td>489434</td>\n      <td>22041</td>\n      <td>RECORD FRAME 7\" SINGLE SIZE</td>\n      <td>48</td>\n      <td>2009-12-01 07:45:00</td>\n      <td>2.10</td>\n      <td>13085.0</td>\n      <td>United Kingdom</td>\n    </tr>\n    <tr>\n      <th>4</th>\n      <td>489434</td>\n      <td>21232</td>\n      <td>STRAWBERRY CERAMIC TRINKET BOX</td>\n      <td>24</td>\n      <td>2009-12-01 07:45:00</td>\n      <td>1.25</td>\n      <td>13085.0</td>\n      <td>United Kingdom</td>\n    </tr>\n    <tr>\n      <th>...</th>\n      <td>...</td>\n      <td>...</td>\n      <td>...</td>\n      <td>...</td>\n      <td>...</td>\n      <td>...</td>\n      <td>...</td>\n      <td>...</td>\n    </tr>\n    <tr>\n      <th>525456</th>\n      <td>538171</td>\n      <td>22271</td>\n      <td>FELTCRAFT DOLL ROSIE</td>\n      <td>2</td>\n      <td>2010-12-09 20:01:00</td>\n      <td>2.95</td>\n      <td>17530.0</td>\n      <td>United Kingdom</td>\n    </tr>\n    <tr>\n      <th>525457</th>\n      <td>538171</td>\n      <td>22750</td>\n      <td>FELTCRAFT PRINCESS LOLA DOLL</td>\n      <td>1</td>\n      <td>2010-12-09 20:01:00</td>\n      <td>3.75</td>\n      <td>17530.0</td>\n      <td>United Kingdom</td>\n    </tr>\n    <tr>\n      <th>525458</th>\n      <td>538171</td>\n      <td>22751</td>\n      <td>FELTCRAFT PRINCESS OLIVIA DOLL</td>\n      <td>1</td>\n      <td>2010-12-09 20:01:00</td>\n      <td>3.75</td>\n      <td>17530.0</td>\n      <td>United Kingdom</td>\n    </tr>\n    <tr>\n      <th>525459</th>\n      <td>538171</td>\n      <td>20970</td>\n      <td>PINK FLORAL FELTCRAFT SHOULDER BAG</td>\n      <td>2</td>\n      <td>2010-12-09 20:01:00</td>\n      <td>3.75</td>\n      <td>17530.0</td>\n      <td>United Kingdom</td>\n    </tr>\n    <tr>\n      <th>525460</th>\n      <td>538171</td>\n      <td>21931</td>\n      <td>JUMBO STORAGE BAG SUKI</td>\n      <td>2</td>\n      <td>2010-12-09 20:01:00</td>\n      <td>1.95</td>\n      <td>17530.0</td>\n      <td>United Kingdom</td>\n    </tr>\n  </tbody>\n</table>\n<p>525461 rows × 8 columns</p>\n</div>"
     },
     "metadata": {},
     "execution_count": 3
    }
   ],
   "source": [
    "# importing excel file\n",
    "df = pd.read_excel('online_retail_ii.xlsx')\n",
    "df"
   ]
  },
  {
   "cell_type": "code",
   "execution_count": 4,
   "metadata": {},
   "outputs": [
    {
     "output_type": "stream",
     "name": "stdout",
     "text": [
      "<class 'pandas.core.frame.DataFrame'>\nRangeIndex: 525461 entries, 0 to 525460\nData columns (total 8 columns):\n #   Column       Non-Null Count   Dtype         \n---  ------       --------------   -----         \n 0   Invoice      525461 non-null  object        \n 1   StockCode    525461 non-null  object        \n 2   Description  522533 non-null  object        \n 3   Quantity     525461 non-null  int64         \n 4   InvoiceDate  525461 non-null  datetime64[ns]\n 5   Price        525461 non-null  float64       \n 6   Customer ID  417534 non-null  float64       \n 7   Country      525461 non-null  object        \ndtypes: datetime64[ns](1), float64(2), int64(1), object(4)\nmemory usage: 32.1+ MB\n"
     ]
    }
   ],
   "source": [
    "# dataframe info\n",
    "df.info()"
   ]
  },
  {
   "cell_type": "code",
   "execution_count": 5,
   "metadata": {},
   "outputs": [
    {
     "output_type": "execute_result",
     "data": {
      "text/plain": [
       "Invoice             0\n",
       "StockCode           0\n",
       "Description      2928\n",
       "Quantity            0\n",
       "InvoiceDate         0\n",
       "Price               0\n",
       "Customer ID    107927\n",
       "Country             0\n",
       "dtype: int64"
      ]
     },
     "metadata": {},
     "execution_count": 5
    }
   ],
   "source": [
    "# data integrity checks\n",
    "df.isnull().sum()"
   ]
  },
  {
   "source": [
    "Missing descriptions won't impact our analysis, though the same cannot be said about customer ids. These will need to be dropped, resulting in a loss of roughly 20% of our dataset."
   ],
   "cell_type": "markdown",
   "metadata": {}
  },
  {
   "cell_type": "code",
   "execution_count": 6,
   "metadata": {},
   "outputs": [
    {
     "output_type": "execute_result",
     "data": {
      "text/plain": [
       "Invoice        0\n",
       "StockCode      0\n",
       "Description    0\n",
       "Quantity       0\n",
       "InvoiceDate    0\n",
       "Price          0\n",
       "Customer ID    0\n",
       "Country        0\n",
       "dtype: int64"
      ]
     },
     "metadata": {},
     "execution_count": 6
    }
   ],
   "source": [
    "# removing incomplete rows\n",
    "df.dropna(subset = ['Customer ID'], inplace = True)\n",
    "df.isnull().sum()"
   ]
  },
  {
   "source": [
    "The UCI repo notes that invoices starting with the letter 'c' indicate a cancellation, so these will also need to be dropped."
   ],
   "cell_type": "markdown",
   "metadata": {}
  },
  {
   "cell_type": "code",
   "execution_count": 7,
   "metadata": {},
   "outputs": [],
   "source": [
    "# pruning cancelled transactions\n",
    "df = df.query('Invoice.str[0] not in [\"c\", \"C\"]')"
   ]
  },
  {
   "cell_type": "code",
   "execution_count": 8,
   "metadata": {},
   "outputs": [
    {
     "output_type": "stream",
     "name": "stdout",
     "text": [
      "Final dataframe shape: (407695, 4)\n"
     ]
    }
   ],
   "source": [
    "# dropping unnecessary columns\n",
    "df = df.loc[:, ['Customer ID', 'InvoiceDate', 'Price', 'Quantity']]\n",
    "print(f'Final dataframe shape: {df.shape}')"
   ]
  },
  {
   "cell_type": "code",
   "execution_count": 9,
   "metadata": {},
   "outputs": [
    {
     "output_type": "execute_result",
     "data": {
      "text/plain": [
       "        Customer ID InvoiceDate  Price  Quantity\n",
       "0           13085.0  2009-12-01   6.95        12\n",
       "1           13085.0  2009-12-01   6.75        12\n",
       "2           13085.0  2009-12-01   6.75        12\n",
       "3           13085.0  2009-12-01   2.10        48\n",
       "4           13085.0  2009-12-01   1.25        24\n",
       "...             ...         ...    ...       ...\n",
       "525456      17530.0  2010-12-09   2.95         2\n",
       "525457      17530.0  2010-12-09   3.75         1\n",
       "525458      17530.0  2010-12-09   3.75         1\n",
       "525459      17530.0  2010-12-09   3.75         2\n",
       "525460      17530.0  2010-12-09   1.95         2\n",
       "\n",
       "[407695 rows x 4 columns]"
      ],
      "text/html": "<div>\n<style scoped>\n    .dataframe tbody tr th:only-of-type {\n        vertical-align: middle;\n    }\n\n    .dataframe tbody tr th {\n        vertical-align: top;\n    }\n\n    .dataframe thead th {\n        text-align: right;\n    }\n</style>\n<table border=\"1\" class=\"dataframe\">\n  <thead>\n    <tr style=\"text-align: right;\">\n      <th></th>\n      <th>Customer ID</th>\n      <th>InvoiceDate</th>\n      <th>Price</th>\n      <th>Quantity</th>\n    </tr>\n  </thead>\n  <tbody>\n    <tr>\n      <th>0</th>\n      <td>13085.0</td>\n      <td>2009-12-01</td>\n      <td>6.95</td>\n      <td>12</td>\n    </tr>\n    <tr>\n      <th>1</th>\n      <td>13085.0</td>\n      <td>2009-12-01</td>\n      <td>6.75</td>\n      <td>12</td>\n    </tr>\n    <tr>\n      <th>2</th>\n      <td>13085.0</td>\n      <td>2009-12-01</td>\n      <td>6.75</td>\n      <td>12</td>\n    </tr>\n    <tr>\n      <th>3</th>\n      <td>13085.0</td>\n      <td>2009-12-01</td>\n      <td>2.10</td>\n      <td>48</td>\n    </tr>\n    <tr>\n      <th>4</th>\n      <td>13085.0</td>\n      <td>2009-12-01</td>\n      <td>1.25</td>\n      <td>24</td>\n    </tr>\n    <tr>\n      <th>...</th>\n      <td>...</td>\n      <td>...</td>\n      <td>...</td>\n      <td>...</td>\n    </tr>\n    <tr>\n      <th>525456</th>\n      <td>17530.0</td>\n      <td>2010-12-09</td>\n      <td>2.95</td>\n      <td>2</td>\n    </tr>\n    <tr>\n      <th>525457</th>\n      <td>17530.0</td>\n      <td>2010-12-09</td>\n      <td>3.75</td>\n      <td>1</td>\n    </tr>\n    <tr>\n      <th>525458</th>\n      <td>17530.0</td>\n      <td>2010-12-09</td>\n      <td>3.75</td>\n      <td>1</td>\n    </tr>\n    <tr>\n      <th>525459</th>\n      <td>17530.0</td>\n      <td>2010-12-09</td>\n      <td>3.75</td>\n      <td>2</td>\n    </tr>\n    <tr>\n      <th>525460</th>\n      <td>17530.0</td>\n      <td>2010-12-09</td>\n      <td>1.95</td>\n      <td>2</td>\n    </tr>\n  </tbody>\n</table>\n<p>407695 rows × 4 columns</p>\n</div>"
     },
     "metadata": {},
     "execution_count": 9
    }
   ],
   "source": [
    "# reformatting datetime column\n",
    "df.InvoiceDate = df.InvoiceDate.dt.date\n",
    "df"
   ]
  },
  {
   "source": [
    "## RFM Analysis"
   ],
   "cell_type": "markdown",
   "metadata": {}
  },
  {
   "source": [
    "Each of the three components of RFM will be calcuated and clustered individually, then compiled into a final cluster for customer segmentation. Frequency might be the only component that isn't quite as straightforward, as there are multiple decent options of re-encoding 'InvoiceDate' into a meaningful feature."
   ],
   "cell_type": "markdown",
   "metadata": {}
  },
  {
   "source": [
    "### Recency"
   ],
   "cell_type": "markdown",
   "metadata": {}
  },
  {
   "source": [
    "Best defined as the time between each customer's last transaction time and the last date of this dataset, this ranges from 0 downwards to -373 days."
   ],
   "cell_type": "markdown",
   "metadata": {}
  },
  {
   "cell_type": "code",
   "execution_count": 10,
   "metadata": {},
   "outputs": [],
   "source": [
    "# recency calculation\n",
    "df['Recency'] = df.InvoiceDate - df.InvoiceDate.max()\n",
    "temp = df.groupby('Customer ID')['Recency'].max()"
   ]
  },
  {
   "cell_type": "code",
   "execution_count": 11,
   "metadata": {},
   "outputs": [
    {
     "output_type": "execute_result",
     "data": {
      "text/plain": [
       "      Customer ID  Recency\n",
       "0         13085.0     -314\n",
       "1         13078.0       -1\n",
       "2         15362.0      -83\n",
       "3         18102.0        0\n",
       "4         12682.0        0\n",
       "...           ...      ...\n",
       "4309      18269.0       -1\n",
       "4310      13270.0       -1\n",
       "4311      12942.0        0\n",
       "4312      13369.0        0\n",
       "4313      15211.0        0\n",
       "\n",
       "[4314 rows x 2 columns]"
      ],
      "text/html": "<div>\n<style scoped>\n    .dataframe tbody tr th:only-of-type {\n        vertical-align: middle;\n    }\n\n    .dataframe tbody tr th {\n        vertical-align: top;\n    }\n\n    .dataframe thead th {\n        text-align: right;\n    }\n</style>\n<table border=\"1\" class=\"dataframe\">\n  <thead>\n    <tr style=\"text-align: right;\">\n      <th></th>\n      <th>Customer ID</th>\n      <th>Recency</th>\n    </tr>\n  </thead>\n  <tbody>\n    <tr>\n      <th>0</th>\n      <td>13085.0</td>\n      <td>-314</td>\n    </tr>\n    <tr>\n      <th>1</th>\n      <td>13078.0</td>\n      <td>-1</td>\n    </tr>\n    <tr>\n      <th>2</th>\n      <td>15362.0</td>\n      <td>-83</td>\n    </tr>\n    <tr>\n      <th>3</th>\n      <td>18102.0</td>\n      <td>0</td>\n    </tr>\n    <tr>\n      <th>4</th>\n      <td>12682.0</td>\n      <td>0</td>\n    </tr>\n    <tr>\n      <th>...</th>\n      <td>...</td>\n      <td>...</td>\n    </tr>\n    <tr>\n      <th>4309</th>\n      <td>18269.0</td>\n      <td>-1</td>\n    </tr>\n    <tr>\n      <th>4310</th>\n      <td>13270.0</td>\n      <td>-1</td>\n    </tr>\n    <tr>\n      <th>4311</th>\n      <td>12942.0</td>\n      <td>0</td>\n    </tr>\n    <tr>\n      <th>4312</th>\n      <td>13369.0</td>\n      <td>0</td>\n    </tr>\n    <tr>\n      <th>4313</th>\n      <td>15211.0</td>\n      <td>0</td>\n    </tr>\n  </tbody>\n</table>\n<p>4314 rows × 2 columns</p>\n</div>"
     },
     "metadata": {},
     "execution_count": 11
    }
   ],
   "source": [
    "# merging with unique customer ids\n",
    "df_rfm = pd.DataFrame(df['Customer ID'].unique(), columns = ['Customer ID'])\n",
    "df_rfm = df_rfm.merge(temp, how = 'left', left_on = 'Customer ID', right_index = True)\n",
    "df_rfm.Recency = df_rfm.Recency.apply(lambda x: x.days)\n",
    "df_rfm"
   ]
  },
  {
   "cell_type": "code",
   "execution_count": 12,
   "metadata": {},
   "outputs": [],
   "source": [
    "# ordered clustering function\n",
    "def ordered_clusters(series, clusters = 5, ascending = True):\n",
    "    '''\n",
    "    Clusters passed values then re-orders labels based on ascending flag.\n",
    "\n",
    "        Arguments:\n",
    "            series (list-like): values to cluster\n",
    "            clusters (int): number of clusters\n",
    "            ascending (bool): order to sort in\n",
    "        \n",
    "        Returns:\n",
    "            sorted (list-like): ordered labels for series\n",
    "    '''\n",
    "\n",
    "    labels = KMeans(n_clusters = clusters, random_state = 42).fit(np.array(series).reshape(-1, 1)).labels_\n",
    "    df_rfm['labels'] = labels\n",
    "    val = 1 if ascending else -1\n",
    "    order = np.argsort(val*df_rfm.groupby('labels')['Recency'].mean())\n",
    "    df_rfm.drop('labels', inplace = True, axis = 1)\n",
    "    reps = {j:i for i, j in zip(order.index, order.values)}\n",
    "    labels = [reps[i] for i in labels]\n",
    "    return labels"
   ]
  },
  {
   "cell_type": "code",
   "execution_count": 13,
   "metadata": {},
   "outputs": [
    {
     "output_type": "execute_result",
     "data": {
      "text/plain": [
       "      Customer ID  Recency  RecencyScore\n",
       "0         13085.0     -314             0\n",
       "1         13078.0       -1             4\n",
       "2         15362.0      -83             3\n",
       "3         18102.0        0             4\n",
       "4         12682.0        0             4\n",
       "...           ...      ...           ...\n",
       "4309      18269.0       -1             4\n",
       "4310      13270.0       -1             4\n",
       "4311      12942.0        0             4\n",
       "4312      13369.0        0             4\n",
       "4313      15211.0        0             4\n",
       "\n",
       "[4314 rows x 3 columns]"
      ],
      "text/html": "<div>\n<style scoped>\n    .dataframe tbody tr th:only-of-type {\n        vertical-align: middle;\n    }\n\n    .dataframe tbody tr th {\n        vertical-align: top;\n    }\n\n    .dataframe thead th {\n        text-align: right;\n    }\n</style>\n<table border=\"1\" class=\"dataframe\">\n  <thead>\n    <tr style=\"text-align: right;\">\n      <th></th>\n      <th>Customer ID</th>\n      <th>Recency</th>\n      <th>RecencyScore</th>\n    </tr>\n  </thead>\n  <tbody>\n    <tr>\n      <th>0</th>\n      <td>13085.0</td>\n      <td>-314</td>\n      <td>0</td>\n    </tr>\n    <tr>\n      <th>1</th>\n      <td>13078.0</td>\n      <td>-1</td>\n      <td>4</td>\n    </tr>\n    <tr>\n      <th>2</th>\n      <td>15362.0</td>\n      <td>-83</td>\n      <td>3</td>\n    </tr>\n    <tr>\n      <th>3</th>\n      <td>18102.0</td>\n      <td>0</td>\n      <td>4</td>\n    </tr>\n    <tr>\n      <th>4</th>\n      <td>12682.0</td>\n      <td>0</td>\n      <td>4</td>\n    </tr>\n    <tr>\n      <th>...</th>\n      <td>...</td>\n      <td>...</td>\n      <td>...</td>\n    </tr>\n    <tr>\n      <th>4309</th>\n      <td>18269.0</td>\n      <td>-1</td>\n      <td>4</td>\n    </tr>\n    <tr>\n      <th>4310</th>\n      <td>13270.0</td>\n      <td>-1</td>\n      <td>4</td>\n    </tr>\n    <tr>\n      <th>4311</th>\n      <td>12942.0</td>\n      <td>0</td>\n      <td>4</td>\n    </tr>\n    <tr>\n      <th>4312</th>\n      <td>13369.0</td>\n      <td>0</td>\n      <td>4</td>\n    </tr>\n    <tr>\n      <th>4313</th>\n      <td>15211.0</td>\n      <td>0</td>\n      <td>4</td>\n    </tr>\n  </tbody>\n</table>\n<p>4314 rows × 3 columns</p>\n</div>"
     },
     "metadata": {},
     "execution_count": 13
    }
   ],
   "source": [
    "# adding labels to df\n",
    "df_rfm['RecencyScore'] = ordered_clusters(df_rfm.Recency)\n",
    "df_rfm"
   ]
  },
  {
   "source": [
    "Since clusters are unsupervised, labels are assigned somewhat haphazardly. To bake in some ordinal meaning to our cluster labels, labels are modified based on within-cluster mean values; higher labels signify a more desirable customer / better score."
   ],
   "cell_type": "markdown",
   "metadata": {}
  },
  {
   "source": [
    "### Frequency"
   ],
   "cell_type": "markdown",
   "metadata": {}
  },
  {
   "source": [
    "As mentioned above, there are a couple ways of quantifying customer frequency. While this section relies on pure transaction count, a good alternative would be to assess average days between customer transactions."
   ],
   "cell_type": "markdown",
   "metadata": {}
  },
  {
   "cell_type": "code",
   "execution_count": 14,
   "metadata": {},
   "outputs": [
    {
     "output_type": "execute_result",
     "data": {
      "text/plain": [
       "      Customer ID  Recency  RecencyScore  Frequency\n",
       "0         13085.0     -314             0         62\n",
       "1         13078.0       -1             4        443\n",
       "2         15362.0      -83             3         40\n",
       "3         18102.0        0             4        627\n",
       "4         12682.0        0             4        514\n",
       "...           ...      ...           ...        ...\n",
       "4309      18269.0       -1             4          7\n",
       "4310      13270.0       -1             4          1\n",
       "4311      12942.0        0             4         16\n",
       "4312      13369.0        0             4         14\n",
       "4313      15211.0        0             4         23\n",
       "\n",
       "[4314 rows x 4 columns]"
      ],
      "text/html": "<div>\n<style scoped>\n    .dataframe tbody tr th:only-of-type {\n        vertical-align: middle;\n    }\n\n    .dataframe tbody tr th {\n        vertical-align: top;\n    }\n\n    .dataframe thead th {\n        text-align: right;\n    }\n</style>\n<table border=\"1\" class=\"dataframe\">\n  <thead>\n    <tr style=\"text-align: right;\">\n      <th></th>\n      <th>Customer ID</th>\n      <th>Recency</th>\n      <th>RecencyScore</th>\n      <th>Frequency</th>\n    </tr>\n  </thead>\n  <tbody>\n    <tr>\n      <th>0</th>\n      <td>13085.0</td>\n      <td>-314</td>\n      <td>0</td>\n      <td>62</td>\n    </tr>\n    <tr>\n      <th>1</th>\n      <td>13078.0</td>\n      <td>-1</td>\n      <td>4</td>\n      <td>443</td>\n    </tr>\n    <tr>\n      <th>2</th>\n      <td>15362.0</td>\n      <td>-83</td>\n      <td>3</td>\n      <td>40</td>\n    </tr>\n    <tr>\n      <th>3</th>\n      <td>18102.0</td>\n      <td>0</td>\n      <td>4</td>\n      <td>627</td>\n    </tr>\n    <tr>\n      <th>4</th>\n      <td>12682.0</td>\n      <td>0</td>\n      <td>4</td>\n      <td>514</td>\n    </tr>\n    <tr>\n      <th>...</th>\n      <td>...</td>\n      <td>...</td>\n      <td>...</td>\n      <td>...</td>\n    </tr>\n    <tr>\n      <th>4309</th>\n      <td>18269.0</td>\n      <td>-1</td>\n      <td>4</td>\n      <td>7</td>\n    </tr>\n    <tr>\n      <th>4310</th>\n      <td>13270.0</td>\n      <td>-1</td>\n      <td>4</td>\n      <td>1</td>\n    </tr>\n    <tr>\n      <th>4311</th>\n      <td>12942.0</td>\n      <td>0</td>\n      <td>4</td>\n      <td>16</td>\n    </tr>\n    <tr>\n      <th>4312</th>\n      <td>13369.0</td>\n      <td>0</td>\n      <td>4</td>\n      <td>14</td>\n    </tr>\n    <tr>\n      <th>4313</th>\n      <td>15211.0</td>\n      <td>0</td>\n      <td>4</td>\n      <td>23</td>\n    </tr>\n  </tbody>\n</table>\n<p>4314 rows × 4 columns</p>\n</div>"
     },
     "metadata": {},
     "execution_count": 14
    }
   ],
   "source": [
    "# frequency calculation\n",
    "temp = df.groupby('Customer ID').InvoiceDate.count()\n",
    "temp = temp.rename('Frequency')\n",
    "df_rfm = df_rfm.merge(temp, how = 'left', left_on = 'Customer ID', right_index = True)\n",
    "df_rfm"
   ]
  },
  {
   "cell_type": "code",
   "execution_count": 15,
   "metadata": {},
   "outputs": [
    {
     "output_type": "execute_result",
     "data": {
      "text/plain": [
       "      Customer ID  Recency  RecencyScore  Frequency  FrequencyScore\n",
       "0         13085.0     -314             0         62               0\n",
       "1         13078.0       -1             4        443               2\n",
       "2         15362.0      -83             3         40               0\n",
       "3         18102.0        0             4        627               2\n",
       "4         12682.0        0             4        514               2\n",
       "...           ...      ...           ...        ...             ...\n",
       "4309      18269.0       -1             4          7               0\n",
       "4310      13270.0       -1             4          1               0\n",
       "4311      12942.0        0             4         16               0\n",
       "4312      13369.0        0             4         14               0\n",
       "4313      15211.0        0             4         23               0\n",
       "\n",
       "[4314 rows x 5 columns]"
      ],
      "text/html": "<div>\n<style scoped>\n    .dataframe tbody tr th:only-of-type {\n        vertical-align: middle;\n    }\n\n    .dataframe tbody tr th {\n        vertical-align: top;\n    }\n\n    .dataframe thead th {\n        text-align: right;\n    }\n</style>\n<table border=\"1\" class=\"dataframe\">\n  <thead>\n    <tr style=\"text-align: right;\">\n      <th></th>\n      <th>Customer ID</th>\n      <th>Recency</th>\n      <th>RecencyScore</th>\n      <th>Frequency</th>\n      <th>FrequencyScore</th>\n    </tr>\n  </thead>\n  <tbody>\n    <tr>\n      <th>0</th>\n      <td>13085.0</td>\n      <td>-314</td>\n      <td>0</td>\n      <td>62</td>\n      <td>0</td>\n    </tr>\n    <tr>\n      <th>1</th>\n      <td>13078.0</td>\n      <td>-1</td>\n      <td>4</td>\n      <td>443</td>\n      <td>2</td>\n    </tr>\n    <tr>\n      <th>2</th>\n      <td>15362.0</td>\n      <td>-83</td>\n      <td>3</td>\n      <td>40</td>\n      <td>0</td>\n    </tr>\n    <tr>\n      <th>3</th>\n      <td>18102.0</td>\n      <td>0</td>\n      <td>4</td>\n      <td>627</td>\n      <td>2</td>\n    </tr>\n    <tr>\n      <th>4</th>\n      <td>12682.0</td>\n      <td>0</td>\n      <td>4</td>\n      <td>514</td>\n      <td>2</td>\n    </tr>\n    <tr>\n      <th>...</th>\n      <td>...</td>\n      <td>...</td>\n      <td>...</td>\n      <td>...</td>\n      <td>...</td>\n    </tr>\n    <tr>\n      <th>4309</th>\n      <td>18269.0</td>\n      <td>-1</td>\n      <td>4</td>\n      <td>7</td>\n      <td>0</td>\n    </tr>\n    <tr>\n      <th>4310</th>\n      <td>13270.0</td>\n      <td>-1</td>\n      <td>4</td>\n      <td>1</td>\n      <td>0</td>\n    </tr>\n    <tr>\n      <th>4311</th>\n      <td>12942.0</td>\n      <td>0</td>\n      <td>4</td>\n      <td>16</td>\n      <td>0</td>\n    </tr>\n    <tr>\n      <th>4312</th>\n      <td>13369.0</td>\n      <td>0</td>\n      <td>4</td>\n      <td>14</td>\n      <td>0</td>\n    </tr>\n    <tr>\n      <th>4313</th>\n      <td>15211.0</td>\n      <td>0</td>\n      <td>4</td>\n      <td>23</td>\n      <td>0</td>\n    </tr>\n  </tbody>\n</table>\n<p>4314 rows × 5 columns</p>\n</div>"
     },
     "metadata": {},
     "execution_count": 15
    }
   ],
   "source": [
    "# frequency ordered clusters\n",
    "df_rfm['FrequencyScore'] = ordered_clusters(df_rfm.Frequency)\n",
    "df_rfm"
   ]
  },
  {
   "source": [
    "### Monetary Value"
   ],
   "cell_type": "markdown",
   "metadata": {}
  },
  {
   "source": [
    "Since no data on company profits per good was provided in this dataset, monetary value is only being looked at from an overall revenue standpoint. Profit margins per product may not all align, leading to some customers who may score high marks in overall revenue while turning a small (or even negative) profit."
   ],
   "cell_type": "markdown",
   "metadata": {}
  },
  {
   "cell_type": "code",
   "execution_count": 16,
   "metadata": {},
   "outputs": [
    {
     "output_type": "execute_result",
     "data": {
      "text/plain": [
       "      Customer ID  Recency  RecencyScore  Frequency  FrequencyScore  \\\n",
       "0         13085.0     -314             0         62               0   \n",
       "1         13078.0       -1             4        443               2   \n",
       "2         15362.0      -83             3         40               0   \n",
       "3         18102.0        0             4        627               2   \n",
       "4         12682.0        0             4        514               2   \n",
       "...           ...      ...           ...        ...             ...   \n",
       "4309      18269.0       -1             4          7               0   \n",
       "4310      13270.0       -1             4          1               0   \n",
       "4311      12942.0        0             4         16               0   \n",
       "4312      13369.0        0             4         14               0   \n",
       "4313      15211.0        0             4         23               0   \n",
       "\n",
       "      MonetaryValue  \n",
       "0           2017.20  \n",
       "1          16904.51  \n",
       "2            613.08  \n",
       "3         349164.35  \n",
       "4          11745.69  \n",
       "...             ...  \n",
       "4309         168.60  \n",
       "4310         590.00  \n",
       "4311         258.75  \n",
       "4312         308.28  \n",
       "4313         383.07  \n",
       "\n",
       "[4314 rows x 6 columns]"
      ],
      "text/html": "<div>\n<style scoped>\n    .dataframe tbody tr th:only-of-type {\n        vertical-align: middle;\n    }\n\n    .dataframe tbody tr th {\n        vertical-align: top;\n    }\n\n    .dataframe thead th {\n        text-align: right;\n    }\n</style>\n<table border=\"1\" class=\"dataframe\">\n  <thead>\n    <tr style=\"text-align: right;\">\n      <th></th>\n      <th>Customer ID</th>\n      <th>Recency</th>\n      <th>RecencyScore</th>\n      <th>Frequency</th>\n      <th>FrequencyScore</th>\n      <th>MonetaryValue</th>\n    </tr>\n  </thead>\n  <tbody>\n    <tr>\n      <th>0</th>\n      <td>13085.0</td>\n      <td>-314</td>\n      <td>0</td>\n      <td>62</td>\n      <td>0</td>\n      <td>2017.20</td>\n    </tr>\n    <tr>\n      <th>1</th>\n      <td>13078.0</td>\n      <td>-1</td>\n      <td>4</td>\n      <td>443</td>\n      <td>2</td>\n      <td>16904.51</td>\n    </tr>\n    <tr>\n      <th>2</th>\n      <td>15362.0</td>\n      <td>-83</td>\n      <td>3</td>\n      <td>40</td>\n      <td>0</td>\n      <td>613.08</td>\n    </tr>\n    <tr>\n      <th>3</th>\n      <td>18102.0</td>\n      <td>0</td>\n      <td>4</td>\n      <td>627</td>\n      <td>2</td>\n      <td>349164.35</td>\n    </tr>\n    <tr>\n      <th>4</th>\n      <td>12682.0</td>\n      <td>0</td>\n      <td>4</td>\n      <td>514</td>\n      <td>2</td>\n      <td>11745.69</td>\n    </tr>\n    <tr>\n      <th>...</th>\n      <td>...</td>\n      <td>...</td>\n      <td>...</td>\n      <td>...</td>\n      <td>...</td>\n      <td>...</td>\n    </tr>\n    <tr>\n      <th>4309</th>\n      <td>18269.0</td>\n      <td>-1</td>\n      <td>4</td>\n      <td>7</td>\n      <td>0</td>\n      <td>168.60</td>\n    </tr>\n    <tr>\n      <th>4310</th>\n      <td>13270.0</td>\n      <td>-1</td>\n      <td>4</td>\n      <td>1</td>\n      <td>0</td>\n      <td>590.00</td>\n    </tr>\n    <tr>\n      <th>4311</th>\n      <td>12942.0</td>\n      <td>0</td>\n      <td>4</td>\n      <td>16</td>\n      <td>0</td>\n      <td>258.75</td>\n    </tr>\n    <tr>\n      <th>4312</th>\n      <td>13369.0</td>\n      <td>0</td>\n      <td>4</td>\n      <td>14</td>\n      <td>0</td>\n      <td>308.28</td>\n    </tr>\n    <tr>\n      <th>4313</th>\n      <td>15211.0</td>\n      <td>0</td>\n      <td>4</td>\n      <td>23</td>\n      <td>0</td>\n      <td>383.07</td>\n    </tr>\n  </tbody>\n</table>\n<p>4314 rows × 6 columns</p>\n</div>"
     },
     "metadata": {},
     "execution_count": 16
    }
   ],
   "source": [
    "# monetary value calculation\n",
    "df['OrderTotal'] = df.Price * df.Quantity\n",
    "temp = df.groupby('Customer ID')['OrderTotal'].sum()\n",
    "temp = temp.rename('MonetaryValue')\n",
    "df_rfm = df_rfm.merge(temp, how = 'left', left_on = 'Customer ID', right_index = True)\n",
    "df_rfm"
   ]
  },
  {
   "cell_type": "code",
   "execution_count": 17,
   "metadata": {},
   "outputs": [
    {
     "output_type": "execute_result",
     "data": {
      "text/plain": [
       "      Customer ID  Recency  RecencyScore  Frequency  FrequencyScore  \\\n",
       "0         13085.0     -314             0         62               0   \n",
       "1         13078.0       -1             4        443               2   \n",
       "2         15362.0      -83             3         40               0   \n",
       "3         18102.0        0             4        627               2   \n",
       "4         12682.0        0             4        514               2   \n",
       "...           ...      ...           ...        ...             ...   \n",
       "4309      18269.0       -1             4          7               0   \n",
       "4310      13270.0       -1             4          1               0   \n",
       "4311      12942.0        0             4         16               0   \n",
       "4312      13369.0        0             4         14               0   \n",
       "4313      15211.0        0             4         23               0   \n",
       "\n",
       "      MonetaryValue  MonetaryValueScore  \n",
       "0           2017.20                   0  \n",
       "1          16904.51                   1  \n",
       "2            613.08                   0  \n",
       "3         349164.35                   4  \n",
       "4          11745.69                   1  \n",
       "...             ...                 ...  \n",
       "4309         168.60                   0  \n",
       "4310         590.00                   0  \n",
       "4311         258.75                   0  \n",
       "4312         308.28                   0  \n",
       "4313         383.07                   0  \n",
       "\n",
       "[4314 rows x 7 columns]"
      ],
      "text/html": "<div>\n<style scoped>\n    .dataframe tbody tr th:only-of-type {\n        vertical-align: middle;\n    }\n\n    .dataframe tbody tr th {\n        vertical-align: top;\n    }\n\n    .dataframe thead th {\n        text-align: right;\n    }\n</style>\n<table border=\"1\" class=\"dataframe\">\n  <thead>\n    <tr style=\"text-align: right;\">\n      <th></th>\n      <th>Customer ID</th>\n      <th>Recency</th>\n      <th>RecencyScore</th>\n      <th>Frequency</th>\n      <th>FrequencyScore</th>\n      <th>MonetaryValue</th>\n      <th>MonetaryValueScore</th>\n    </tr>\n  </thead>\n  <tbody>\n    <tr>\n      <th>0</th>\n      <td>13085.0</td>\n      <td>-314</td>\n      <td>0</td>\n      <td>62</td>\n      <td>0</td>\n      <td>2017.20</td>\n      <td>0</td>\n    </tr>\n    <tr>\n      <th>1</th>\n      <td>13078.0</td>\n      <td>-1</td>\n      <td>4</td>\n      <td>443</td>\n      <td>2</td>\n      <td>16904.51</td>\n      <td>1</td>\n    </tr>\n    <tr>\n      <th>2</th>\n      <td>15362.0</td>\n      <td>-83</td>\n      <td>3</td>\n      <td>40</td>\n      <td>0</td>\n      <td>613.08</td>\n      <td>0</td>\n    </tr>\n    <tr>\n      <th>3</th>\n      <td>18102.0</td>\n      <td>0</td>\n      <td>4</td>\n      <td>627</td>\n      <td>2</td>\n      <td>349164.35</td>\n      <td>4</td>\n    </tr>\n    <tr>\n      <th>4</th>\n      <td>12682.0</td>\n      <td>0</td>\n      <td>4</td>\n      <td>514</td>\n      <td>2</td>\n      <td>11745.69</td>\n      <td>1</td>\n    </tr>\n    <tr>\n      <th>...</th>\n      <td>...</td>\n      <td>...</td>\n      <td>...</td>\n      <td>...</td>\n      <td>...</td>\n      <td>...</td>\n      <td>...</td>\n    </tr>\n    <tr>\n      <th>4309</th>\n      <td>18269.0</td>\n      <td>-1</td>\n      <td>4</td>\n      <td>7</td>\n      <td>0</td>\n      <td>168.60</td>\n      <td>0</td>\n    </tr>\n    <tr>\n      <th>4310</th>\n      <td>13270.0</td>\n      <td>-1</td>\n      <td>4</td>\n      <td>1</td>\n      <td>0</td>\n      <td>590.00</td>\n      <td>0</td>\n    </tr>\n    <tr>\n      <th>4311</th>\n      <td>12942.0</td>\n      <td>0</td>\n      <td>4</td>\n      <td>16</td>\n      <td>0</td>\n      <td>258.75</td>\n      <td>0</td>\n    </tr>\n    <tr>\n      <th>4312</th>\n      <td>13369.0</td>\n      <td>0</td>\n      <td>4</td>\n      <td>14</td>\n      <td>0</td>\n      <td>308.28</td>\n      <td>0</td>\n    </tr>\n    <tr>\n      <th>4313</th>\n      <td>15211.0</td>\n      <td>0</td>\n      <td>4</td>\n      <td>23</td>\n      <td>0</td>\n      <td>383.07</td>\n      <td>0</td>\n    </tr>\n  </tbody>\n</table>\n<p>4314 rows × 7 columns</p>\n</div>"
     },
     "metadata": {},
     "execution_count": 17
    }
   ],
   "source": [
    "# monetary value ordered clusters\n",
    "df_rfm['MonetaryValueScore'] = ordered_clusters(df_rfm.MonetaryValue)\n",
    "df_rfm"
   ]
  },
  {
   "source": [
    "## Customer Segmentation"
   ],
   "cell_type": "markdown",
   "metadata": {}
  },
  {
   "cell_type": "code",
   "execution_count": 18,
   "metadata": {},
   "outputs": [
    {
     "output_type": "display_data",
     "data": {
      "text/plain": "<Figure size 1008x432 with 1 Axes>",
      "image/svg+xml": "<?xml version=\"1.0\" encoding=\"utf-8\" standalone=\"no\"?>\n<!DOCTYPE svg PUBLIC \"-//W3C//DTD SVG 1.1//EN\"\n  \"http://www.w3.org/Graphics/SVG/1.1/DTD/svg11.dtd\">\n<!-- Created with matplotlib (https://matplotlib.org/) -->\n<svg height=\"386.034375pt\" version=\"1.1\" viewBox=\"0 0 841.728125 386.034375\" width=\"841.728125pt\" xmlns=\"http://www.w3.org/2000/svg\" xmlns:xlink=\"http://www.w3.org/1999/xlink\">\n <metadata>\n  <rdf:RDF xmlns:cc=\"http://creativecommons.org/ns#\" xmlns:dc=\"http://purl.org/dc/elements/1.1/\" xmlns:rdf=\"http://www.w3.org/1999/02/22-rdf-syntax-ns#\">\n   <cc:Work>\n    <dc:type rdf:resource=\"http://purl.org/dc/dcmitype/StillImage\"/>\n    <dc:date>2021-06-21T00:37:06.348160</dc:date>\n    <dc:format>image/svg+xml</dc:format>\n    <dc:creator>\n     <cc:Agent>\n      <dc:title>Matplotlib v3.3.4, https://matplotlib.org/</dc:title>\n     </cc:Agent>\n    </dc:creator>\n   </cc:Work>\n  </rdf:RDF>\n </metadata>\n <defs>\n  <style type=\"text/css\">*{stroke-linecap:butt;stroke-linejoin:round;}</style>\n </defs>\n <g id=\"figure_1\">\n  <g id=\"patch_1\">\n   <path d=\"M 0 386.034375 \nL 841.728125 386.034375 \nL 841.728125 0 \nL 0 0 \nz\n\" style=\"fill:none;\"/>\n  </g>\n  <g id=\"axes_1\">\n   <g id=\"patch_2\">\n    <path d=\"M 53.328125 348.478125 \nL 834.528125 348.478125 \nL 834.528125 22.318125 \nL 53.328125 22.318125 \nz\n\" style=\"fill:#ffffff;\"/>\n   </g>\n   <g id=\"matplotlib.axis_1\">\n    <g id=\"xtick_1\">\n     <g id=\"line2d_1\">\n      <defs>\n       <path d=\"M 0 0 \nL 0 3.5 \n\" id=\"m5df9824f35\" style=\"stroke:#000000;stroke-width:0.8;\"/>\n      </defs>\n      <g>\n       <use style=\"stroke:#000000;stroke-width:0.8;\" x=\"143.466587\" xlink:href=\"#m5df9824f35\" y=\"348.478125\"/>\n      </g>\n     </g>\n     <g id=\"text_1\">\n      <!-- 2 -->\n      <g transform=\"translate(140.285337 363.076562)scale(0.1 -0.1)\">\n       <defs>\n        <path d=\"M 19.1875 8.296875 \nL 53.609375 8.296875 \nL 53.609375 0 \nL 7.328125 0 \nL 7.328125 8.296875 \nQ 12.9375 14.109375 22.625 23.890625 \nQ 32.328125 33.6875 34.8125 36.53125 \nQ 39.546875 41.84375 41.421875 45.53125 \nQ 43.3125 49.21875 43.3125 52.78125 \nQ 43.3125 58.59375 39.234375 62.25 \nQ 35.15625 65.921875 28.609375 65.921875 \nQ 23.96875 65.921875 18.8125 64.3125 \nQ 13.671875 62.703125 7.8125 59.421875 \nL 7.8125 69.390625 \nQ 13.765625 71.78125 18.9375 73 \nQ 24.125 74.21875 28.421875 74.21875 \nQ 39.75 74.21875 46.484375 68.546875 \nQ 53.21875 62.890625 53.21875 53.421875 \nQ 53.21875 48.921875 51.53125 44.890625 \nQ 49.859375 40.875 45.40625 35.40625 \nQ 44.1875 33.984375 37.640625 27.21875 \nQ 31.109375 20.453125 19.1875 8.296875 \nz\n\" id=\"DejaVuSans-50\"/>\n       </defs>\n       <use xlink:href=\"#DejaVuSans-50\"/>\n      </g>\n     </g>\n    </g>\n    <g id=\"xtick_2\">\n     <g id=\"line2d_2\">\n      <g>\n       <use style=\"stroke:#000000;stroke-width:0.8;\" x=\"252.725328\" xlink:href=\"#m5df9824f35\" y=\"348.478125\"/>\n      </g>\n     </g>\n     <g id=\"text_2\">\n      <!-- 4 -->\n      <g transform=\"translate(249.544078 363.076562)scale(0.1 -0.1)\">\n       <defs>\n        <path d=\"M 37.796875 64.3125 \nL 12.890625 25.390625 \nL 37.796875 25.390625 \nz\nM 35.203125 72.90625 \nL 47.609375 72.90625 \nL 47.609375 25.390625 \nL 58.015625 25.390625 \nL 58.015625 17.1875 \nL 47.609375 17.1875 \nL 47.609375 0 \nL 37.796875 0 \nL 37.796875 17.1875 \nL 4.890625 17.1875 \nL 4.890625 26.703125 \nz\n\" id=\"DejaVuSans-52\"/>\n       </defs>\n       <use xlink:href=\"#DejaVuSans-52\"/>\n      </g>\n     </g>\n    </g>\n    <g id=\"xtick_3\">\n     <g id=\"line2d_3\">\n      <g>\n       <use style=\"stroke:#000000;stroke-width:0.8;\" x=\"361.984069\" xlink:href=\"#m5df9824f35\" y=\"348.478125\"/>\n      </g>\n     </g>\n     <g id=\"text_3\">\n      <!-- 6 -->\n      <g transform=\"translate(358.802819 363.076562)scale(0.1 -0.1)\">\n       <defs>\n        <path d=\"M 33.015625 40.375 \nQ 26.375 40.375 22.484375 35.828125 \nQ 18.609375 31.296875 18.609375 23.390625 \nQ 18.609375 15.53125 22.484375 10.953125 \nQ 26.375 6.390625 33.015625 6.390625 \nQ 39.65625 6.390625 43.53125 10.953125 \nQ 47.40625 15.53125 47.40625 23.390625 \nQ 47.40625 31.296875 43.53125 35.828125 \nQ 39.65625 40.375 33.015625 40.375 \nz\nM 52.59375 71.296875 \nL 52.59375 62.3125 \nQ 48.875 64.0625 45.09375 64.984375 \nQ 41.3125 65.921875 37.59375 65.921875 \nQ 27.828125 65.921875 22.671875 59.328125 \nQ 17.53125 52.734375 16.796875 39.40625 \nQ 19.671875 43.65625 24.015625 45.921875 \nQ 28.375 48.1875 33.59375 48.1875 \nQ 44.578125 48.1875 50.953125 41.515625 \nQ 57.328125 34.859375 57.328125 23.390625 \nQ 57.328125 12.15625 50.6875 5.359375 \nQ 44.046875 -1.421875 33.015625 -1.421875 \nQ 20.359375 -1.421875 13.671875 8.265625 \nQ 6.984375 17.96875 6.984375 36.375 \nQ 6.984375 53.65625 15.1875 63.9375 \nQ 23.390625 74.21875 37.203125 74.21875 \nQ 40.921875 74.21875 44.703125 73.484375 \nQ 48.484375 72.75 52.59375 71.296875 \nz\n\" id=\"DejaVuSans-54\"/>\n       </defs>\n       <use xlink:href=\"#DejaVuSans-54\"/>\n      </g>\n     </g>\n    </g>\n    <g id=\"xtick_4\">\n     <g id=\"line2d_4\">\n      <g>\n       <use style=\"stroke:#000000;stroke-width:0.8;\" x=\"471.24281\" xlink:href=\"#m5df9824f35\" y=\"348.478125\"/>\n      </g>\n     </g>\n     <g id=\"text_4\">\n      <!-- 8 -->\n      <g transform=\"translate(468.06156 363.076562)scale(0.1 -0.1)\">\n       <defs>\n        <path d=\"M 31.78125 34.625 \nQ 24.75 34.625 20.71875 30.859375 \nQ 16.703125 27.09375 16.703125 20.515625 \nQ 16.703125 13.921875 20.71875 10.15625 \nQ 24.75 6.390625 31.78125 6.390625 \nQ 38.8125 6.390625 42.859375 10.171875 \nQ 46.921875 13.96875 46.921875 20.515625 \nQ 46.921875 27.09375 42.890625 30.859375 \nQ 38.875 34.625 31.78125 34.625 \nz\nM 21.921875 38.8125 \nQ 15.578125 40.375 12.03125 44.71875 \nQ 8.5 49.078125 8.5 55.328125 \nQ 8.5 64.0625 14.71875 69.140625 \nQ 20.953125 74.21875 31.78125 74.21875 \nQ 42.671875 74.21875 48.875 69.140625 \nQ 55.078125 64.0625 55.078125 55.328125 \nQ 55.078125 49.078125 51.53125 44.71875 \nQ 48 40.375 41.703125 38.8125 \nQ 48.828125 37.15625 52.796875 32.3125 \nQ 56.78125 27.484375 56.78125 20.515625 \nQ 56.78125 9.90625 50.3125 4.234375 \nQ 43.84375 -1.421875 31.78125 -1.421875 \nQ 19.734375 -1.421875 13.25 4.234375 \nQ 6.78125 9.90625 6.78125 20.515625 \nQ 6.78125 27.484375 10.78125 32.3125 \nQ 14.796875 37.15625 21.921875 38.8125 \nz\nM 18.3125 54.390625 \nQ 18.3125 48.734375 21.84375 45.5625 \nQ 25.390625 42.390625 31.78125 42.390625 \nQ 38.140625 42.390625 41.71875 45.5625 \nQ 45.3125 48.734375 45.3125 54.390625 \nQ 45.3125 60.0625 41.71875 63.234375 \nQ 38.140625 66.40625 31.78125 66.40625 \nQ 25.390625 66.40625 21.84375 63.234375 \nQ 18.3125 60.0625 18.3125 54.390625 \nz\n\" id=\"DejaVuSans-56\"/>\n       </defs>\n       <use xlink:href=\"#DejaVuSans-56\"/>\n      </g>\n     </g>\n    </g>\n    <g id=\"xtick_5\">\n     <g id=\"line2d_5\">\n      <g>\n       <use style=\"stroke:#000000;stroke-width:0.8;\" x=\"580.501552\" xlink:href=\"#m5df9824f35\" y=\"348.478125\"/>\n      </g>\n     </g>\n     <g id=\"text_5\">\n      <!-- 10 -->\n      <g transform=\"translate(574.139052 363.076562)scale(0.1 -0.1)\">\n       <defs>\n        <path d=\"M 12.40625 8.296875 \nL 28.515625 8.296875 \nL 28.515625 63.921875 \nL 10.984375 60.40625 \nL 10.984375 69.390625 \nL 28.421875 72.90625 \nL 38.28125 72.90625 \nL 38.28125 8.296875 \nL 54.390625 8.296875 \nL 54.390625 0 \nL 12.40625 0 \nz\n\" id=\"DejaVuSans-49\"/>\n        <path d=\"M 31.78125 66.40625 \nQ 24.171875 66.40625 20.328125 58.90625 \nQ 16.5 51.421875 16.5 36.375 \nQ 16.5 21.390625 20.328125 13.890625 \nQ 24.171875 6.390625 31.78125 6.390625 \nQ 39.453125 6.390625 43.28125 13.890625 \nQ 47.125 21.390625 47.125 36.375 \nQ 47.125 51.421875 43.28125 58.90625 \nQ 39.453125 66.40625 31.78125 66.40625 \nz\nM 31.78125 74.21875 \nQ 44.046875 74.21875 50.515625 64.515625 \nQ 56.984375 54.828125 56.984375 36.375 \nQ 56.984375 17.96875 50.515625 8.265625 \nQ 44.046875 -1.421875 31.78125 -1.421875 \nQ 19.53125 -1.421875 13.0625 8.265625 \nQ 6.59375 17.96875 6.59375 36.375 \nQ 6.59375 54.828125 13.0625 64.515625 \nQ 19.53125 74.21875 31.78125 74.21875 \nz\n\" id=\"DejaVuSans-48\"/>\n       </defs>\n       <use xlink:href=\"#DejaVuSans-49\"/>\n       <use x=\"63.623047\" xlink:href=\"#DejaVuSans-48\"/>\n      </g>\n     </g>\n    </g>\n    <g id=\"xtick_6\">\n     <g id=\"line2d_6\">\n      <g>\n       <use style=\"stroke:#000000;stroke-width:0.8;\" x=\"689.760293\" xlink:href=\"#m5df9824f35\" y=\"348.478125\"/>\n      </g>\n     </g>\n     <g id=\"text_6\">\n      <!-- 12 -->\n      <g transform=\"translate(683.397793 363.076562)scale(0.1 -0.1)\">\n       <use xlink:href=\"#DejaVuSans-49\"/>\n       <use x=\"63.623047\" xlink:href=\"#DejaVuSans-50\"/>\n      </g>\n     </g>\n    </g>\n    <g id=\"xtick_7\">\n     <g id=\"line2d_7\">\n      <g>\n       <use style=\"stroke:#000000;stroke-width:0.8;\" x=\"799.019034\" xlink:href=\"#m5df9824f35\" y=\"348.478125\"/>\n      </g>\n     </g>\n     <g id=\"text_7\">\n      <!-- 14 -->\n      <g transform=\"translate(792.656534 363.076562)scale(0.1 -0.1)\">\n       <use xlink:href=\"#DejaVuSans-49\"/>\n       <use x=\"63.623047\" xlink:href=\"#DejaVuSans-52\"/>\n      </g>\n     </g>\n    </g>\n    <g id=\"text_8\">\n     <!-- Clusters -->\n     <g transform=\"translate(423.577344 376.754687)scale(0.1 -0.1)\">\n      <defs>\n       <path d=\"M 64.40625 67.28125 \nL 64.40625 56.890625 \nQ 59.421875 61.53125 53.78125 63.8125 \nQ 48.140625 66.109375 41.796875 66.109375 \nQ 29.296875 66.109375 22.65625 58.46875 \nQ 16.015625 50.828125 16.015625 36.375 \nQ 16.015625 21.96875 22.65625 14.328125 \nQ 29.296875 6.6875 41.796875 6.6875 \nQ 48.140625 6.6875 53.78125 8.984375 \nQ 59.421875 11.28125 64.40625 15.921875 \nL 64.40625 5.609375 \nQ 59.234375 2.09375 53.4375 0.328125 \nQ 47.65625 -1.421875 41.21875 -1.421875 \nQ 24.65625 -1.421875 15.125 8.703125 \nQ 5.609375 18.84375 5.609375 36.375 \nQ 5.609375 53.953125 15.125 64.078125 \nQ 24.65625 74.21875 41.21875 74.21875 \nQ 47.75 74.21875 53.53125 72.484375 \nQ 59.328125 70.75 64.40625 67.28125 \nz\n\" id=\"DejaVuSans-67\"/>\n       <path d=\"M 9.421875 75.984375 \nL 18.40625 75.984375 \nL 18.40625 0 \nL 9.421875 0 \nz\n\" id=\"DejaVuSans-108\"/>\n       <path d=\"M 8.5 21.578125 \nL 8.5 54.6875 \nL 17.484375 54.6875 \nL 17.484375 21.921875 \nQ 17.484375 14.15625 20.5 10.265625 \nQ 23.53125 6.390625 29.59375 6.390625 \nQ 36.859375 6.390625 41.078125 11.03125 \nQ 45.3125 15.671875 45.3125 23.6875 \nL 45.3125 54.6875 \nL 54.296875 54.6875 \nL 54.296875 0 \nL 45.3125 0 \nL 45.3125 8.40625 \nQ 42.046875 3.421875 37.71875 1 \nQ 33.40625 -1.421875 27.6875 -1.421875 \nQ 18.265625 -1.421875 13.375 4.4375 \nQ 8.5 10.296875 8.5 21.578125 \nz\nM 31.109375 56 \nz\n\" id=\"DejaVuSans-117\"/>\n       <path d=\"M 44.28125 53.078125 \nL 44.28125 44.578125 \nQ 40.484375 46.53125 36.375 47.5 \nQ 32.28125 48.484375 27.875 48.484375 \nQ 21.1875 48.484375 17.84375 46.4375 \nQ 14.5 44.390625 14.5 40.28125 \nQ 14.5 37.15625 16.890625 35.375 \nQ 19.28125 33.59375 26.515625 31.984375 \nL 29.59375 31.296875 \nQ 39.15625 29.25 43.1875 25.515625 \nQ 47.21875 21.78125 47.21875 15.09375 \nQ 47.21875 7.46875 41.1875 3.015625 \nQ 35.15625 -1.421875 24.609375 -1.421875 \nQ 20.21875 -1.421875 15.453125 -0.5625 \nQ 10.6875 0.296875 5.421875 2 \nL 5.421875 11.28125 \nQ 10.40625 8.6875 15.234375 7.390625 \nQ 20.0625 6.109375 24.8125 6.109375 \nQ 31.15625 6.109375 34.5625 8.28125 \nQ 37.984375 10.453125 37.984375 14.40625 \nQ 37.984375 18.0625 35.515625 20.015625 \nQ 33.0625 21.96875 24.703125 23.78125 \nL 21.578125 24.515625 \nQ 13.234375 26.265625 9.515625 29.90625 \nQ 5.8125 33.546875 5.8125 39.890625 \nQ 5.8125 47.609375 11.28125 51.796875 \nQ 16.75 56 26.8125 56 \nQ 31.78125 56 36.171875 55.265625 \nQ 40.578125 54.546875 44.28125 53.078125 \nz\n\" id=\"DejaVuSans-115\"/>\n       <path d=\"M 18.3125 70.21875 \nL 18.3125 54.6875 \nL 36.8125 54.6875 \nL 36.8125 47.703125 \nL 18.3125 47.703125 \nL 18.3125 18.015625 \nQ 18.3125 11.328125 20.140625 9.421875 \nQ 21.96875 7.515625 27.59375 7.515625 \nL 36.8125 7.515625 \nL 36.8125 0 \nL 27.59375 0 \nQ 17.1875 0 13.234375 3.875 \nQ 9.28125 7.765625 9.28125 18.015625 \nL 9.28125 47.703125 \nL 2.6875 47.703125 \nL 2.6875 54.6875 \nL 9.28125 54.6875 \nL 9.28125 70.21875 \nz\n\" id=\"DejaVuSans-116\"/>\n       <path d=\"M 56.203125 29.59375 \nL 56.203125 25.203125 \nL 14.890625 25.203125 \nQ 15.484375 15.921875 20.484375 11.0625 \nQ 25.484375 6.203125 34.421875 6.203125 \nQ 39.59375 6.203125 44.453125 7.46875 \nQ 49.3125 8.734375 54.109375 11.28125 \nL 54.109375 2.78125 \nQ 49.265625 0.734375 44.1875 -0.34375 \nQ 39.109375 -1.421875 33.890625 -1.421875 \nQ 20.796875 -1.421875 13.15625 6.1875 \nQ 5.515625 13.8125 5.515625 26.8125 \nQ 5.515625 40.234375 12.765625 48.109375 \nQ 20.015625 56 32.328125 56 \nQ 43.359375 56 49.78125 48.890625 \nQ 56.203125 41.796875 56.203125 29.59375 \nz\nM 47.21875 32.234375 \nQ 47.125 39.59375 43.09375 43.984375 \nQ 39.0625 48.390625 32.421875 48.390625 \nQ 24.90625 48.390625 20.390625 44.140625 \nQ 15.875 39.890625 15.1875 32.171875 \nz\n\" id=\"DejaVuSans-101\"/>\n       <path d=\"M 41.109375 46.296875 \nQ 39.59375 47.171875 37.8125 47.578125 \nQ 36.03125 48 33.890625 48 \nQ 26.265625 48 22.1875 43.046875 \nQ 18.109375 38.09375 18.109375 28.8125 \nL 18.109375 0 \nL 9.078125 0 \nL 9.078125 54.6875 \nL 18.109375 54.6875 \nL 18.109375 46.1875 \nQ 20.953125 51.171875 25.484375 53.578125 \nQ 30.03125 56 36.53125 56 \nQ 37.453125 56 38.578125 55.875 \nQ 39.703125 55.765625 41.0625 55.515625 \nz\n\" id=\"DejaVuSans-114\"/>\n      </defs>\n      <use xlink:href=\"#DejaVuSans-67\"/>\n      <use x=\"69.824219\" xlink:href=\"#DejaVuSans-108\"/>\n      <use x=\"97.607422\" xlink:href=\"#DejaVuSans-117\"/>\n      <use x=\"160.986328\" xlink:href=\"#DejaVuSans-115\"/>\n      <use x=\"213.085938\" xlink:href=\"#DejaVuSans-116\"/>\n      <use x=\"252.294922\" xlink:href=\"#DejaVuSans-101\"/>\n      <use x=\"313.818359\" xlink:href=\"#DejaVuSans-114\"/>\n      <use x=\"354.931641\" xlink:href=\"#DejaVuSans-115\"/>\n     </g>\n    </g>\n   </g>\n   <g id=\"matplotlib.axis_2\">\n    <g id=\"ytick_1\">\n     <g id=\"line2d_8\">\n      <defs>\n       <path d=\"M 0 0 \nL -3.5 0 \n\" id=\"m96fafeb9ec\" style=\"stroke:#000000;stroke-width:0.8;\"/>\n      </defs>\n      <g>\n       <use style=\"stroke:#000000;stroke-width:0.8;\" x=\"53.328125\" xlink:href=\"#m96fafeb9ec\" y=\"336.635537\"/>\n      </g>\n     </g>\n     <g id=\"text_9\">\n      <!-- 0 -->\n      <g transform=\"translate(39.965625 340.434756)scale(0.1 -0.1)\">\n       <use xlink:href=\"#DejaVuSans-48\"/>\n      </g>\n     </g>\n    </g>\n    <g id=\"ytick_2\">\n     <g id=\"line2d_9\">\n      <g>\n       <use style=\"stroke:#000000;stroke-width:0.8;\" x=\"53.328125\" xlink:href=\"#m96fafeb9ec\" y=\"264.33684\"/>\n      </g>\n     </g>\n     <g id=\"text_10\">\n      <!-- 2000 -->\n      <g transform=\"translate(20.878125 268.136059)scale(0.1 -0.1)\">\n       <use xlink:href=\"#DejaVuSans-50\"/>\n       <use x=\"63.623047\" xlink:href=\"#DejaVuSans-48\"/>\n       <use x=\"127.246094\" xlink:href=\"#DejaVuSans-48\"/>\n       <use x=\"190.869141\" xlink:href=\"#DejaVuSans-48\"/>\n      </g>\n     </g>\n    </g>\n    <g id=\"ytick_3\">\n     <g id=\"line2d_10\">\n      <g>\n       <use style=\"stroke:#000000;stroke-width:0.8;\" x=\"53.328125\" xlink:href=\"#m96fafeb9ec\" y=\"192.038142\"/>\n      </g>\n     </g>\n     <g id=\"text_11\">\n      <!-- 4000 -->\n      <g transform=\"translate(20.878125 195.837361)scale(0.1 -0.1)\">\n       <use xlink:href=\"#DejaVuSans-52\"/>\n       <use x=\"63.623047\" xlink:href=\"#DejaVuSans-48\"/>\n       <use x=\"127.246094\" xlink:href=\"#DejaVuSans-48\"/>\n       <use x=\"190.869141\" xlink:href=\"#DejaVuSans-48\"/>\n      </g>\n     </g>\n    </g>\n    <g id=\"ytick_4\">\n     <g id=\"line2d_11\">\n      <g>\n       <use style=\"stroke:#000000;stroke-width:0.8;\" x=\"53.328125\" xlink:href=\"#m96fafeb9ec\" y=\"119.739445\"/>\n      </g>\n     </g>\n     <g id=\"text_12\">\n      <!-- 6000 -->\n      <g transform=\"translate(20.878125 123.538664)scale(0.1 -0.1)\">\n       <use xlink:href=\"#DejaVuSans-54\"/>\n       <use x=\"63.623047\" xlink:href=\"#DejaVuSans-48\"/>\n       <use x=\"127.246094\" xlink:href=\"#DejaVuSans-48\"/>\n       <use x=\"190.869141\" xlink:href=\"#DejaVuSans-48\"/>\n      </g>\n     </g>\n    </g>\n    <g id=\"ytick_5\">\n     <g id=\"line2d_12\">\n      <g>\n       <use style=\"stroke:#000000;stroke-width:0.8;\" x=\"53.328125\" xlink:href=\"#m96fafeb9ec\" y=\"47.440748\"/>\n      </g>\n     </g>\n     <g id=\"text_13\">\n      <!-- 8000 -->\n      <g transform=\"translate(20.878125 51.239966)scale(0.1 -0.1)\">\n       <use xlink:href=\"#DejaVuSans-56\"/>\n       <use x=\"63.623047\" xlink:href=\"#DejaVuSans-48\"/>\n       <use x=\"127.246094\" xlink:href=\"#DejaVuSans-48\"/>\n       <use x=\"190.869141\" xlink:href=\"#DejaVuSans-48\"/>\n      </g>\n     </g>\n    </g>\n    <g id=\"text_14\">\n     <!-- WCSS -->\n     <g transform=\"translate(14.798438 200.181719)rotate(-90)scale(0.1 -0.1)\">\n      <defs>\n       <path d=\"M 3.328125 72.90625 \nL 13.28125 72.90625 \nL 28.609375 11.28125 \nL 43.890625 72.90625 \nL 54.984375 72.90625 \nL 70.3125 11.28125 \nL 85.59375 72.90625 \nL 95.609375 72.90625 \nL 77.296875 0 \nL 64.890625 0 \nL 49.515625 63.28125 \nL 33.984375 0 \nL 21.578125 0 \nz\n\" id=\"DejaVuSans-87\"/>\n       <path d=\"M 53.515625 70.515625 \nL 53.515625 60.890625 \nQ 47.90625 63.578125 42.921875 64.890625 \nQ 37.9375 66.21875 33.296875 66.21875 \nQ 25.25 66.21875 20.875 63.09375 \nQ 16.5 59.96875 16.5 54.203125 \nQ 16.5 49.359375 19.40625 46.890625 \nQ 22.3125 44.4375 30.421875 42.921875 \nL 36.375 41.703125 \nQ 47.40625 39.59375 52.65625 34.296875 \nQ 57.90625 29 57.90625 20.125 \nQ 57.90625 9.515625 50.796875 4.046875 \nQ 43.703125 -1.421875 29.984375 -1.421875 \nQ 24.8125 -1.421875 18.96875 -0.25 \nQ 13.140625 0.921875 6.890625 3.21875 \nL 6.890625 13.375 \nQ 12.890625 10.015625 18.65625 8.296875 \nQ 24.421875 6.59375 29.984375 6.59375 \nQ 38.421875 6.59375 43.015625 9.90625 \nQ 47.609375 13.234375 47.609375 19.390625 \nQ 47.609375 24.75 44.3125 27.78125 \nQ 41.015625 30.8125 33.5 32.328125 \nL 27.484375 33.5 \nQ 16.453125 35.6875 11.515625 40.375 \nQ 6.59375 45.0625 6.59375 53.421875 \nQ 6.59375 63.09375 13.40625 68.65625 \nQ 20.21875 74.21875 32.171875 74.21875 \nQ 37.3125 74.21875 42.625 73.28125 \nQ 47.953125 72.359375 53.515625 70.515625 \nz\n\" id=\"DejaVuSans-83\"/>\n      </defs>\n      <use xlink:href=\"#DejaVuSans-87\"/>\n      <use x=\"98.876953\" xlink:href=\"#DejaVuSans-67\"/>\n      <use x=\"168.701172\" xlink:href=\"#DejaVuSans-83\"/>\n      <use x=\"232.177734\" xlink:href=\"#DejaVuSans-83\"/>\n     </g>\n    </g>\n   </g>\n   <g id=\"line2d_13\">\n    <path clip-path=\"url(#pdd29f95e10)\" d=\"M 88.837216 37.14358 \nL 143.466587 232.335925 \nL 198.095957 269.073449 \nL 252.725328 294.679853 \nL 307.354698 307.434168 \nL 361.984069 314.893073 \nL 416.61344 320.965357 \nL 471.24281 325.673517 \nL 525.872181 328.267955 \nL 580.501552 330.49359 \nL 635.130922 331.53359 \nL 689.760293 332.487062 \nL 744.389663 333.101146 \nL 799.019034 333.65267 \n\" style=\"fill:none;stroke:#1f77b4;stroke-linecap:square;stroke-width:1.5;\"/>\n   </g>\n   <g id=\"patch_3\">\n    <path d=\"M 53.328125 348.478125 \nL 53.328125 22.318125 \n\" style=\"fill:none;stroke:#000000;stroke-linecap:square;stroke-linejoin:miter;stroke-width:0.8;\"/>\n   </g>\n   <g id=\"patch_4\">\n    <path d=\"M 834.528125 348.478125 \nL 834.528125 22.318125 \n\" style=\"fill:none;stroke:#000000;stroke-linecap:square;stroke-linejoin:miter;stroke-width:0.8;\"/>\n   </g>\n   <g id=\"patch_5\">\n    <path d=\"M 53.328125 348.478125 \nL 834.528125 348.478125 \n\" style=\"fill:none;stroke:#000000;stroke-linecap:square;stroke-linejoin:miter;stroke-width:0.8;\"/>\n   </g>\n   <g id=\"patch_6\">\n    <path d=\"M 53.328125 22.318125 \nL 834.528125 22.318125 \n\" style=\"fill:none;stroke:#000000;stroke-linecap:square;stroke-linejoin:miter;stroke-width:0.8;\"/>\n   </g>\n   <g id=\"text_15\">\n    <!-- WCSS Elbow Method -->\n    <g transform=\"translate(382.025 16.318125)scale(0.12 -0.12)\">\n     <defs>\n      <path id=\"DejaVuSans-32\"/>\n      <path d=\"M 9.8125 72.90625 \nL 55.90625 72.90625 \nL 55.90625 64.59375 \nL 19.671875 64.59375 \nL 19.671875 43.015625 \nL 54.390625 43.015625 \nL 54.390625 34.71875 \nL 19.671875 34.71875 \nL 19.671875 8.296875 \nL 56.78125 8.296875 \nL 56.78125 0 \nL 9.8125 0 \nz\n\" id=\"DejaVuSans-69\"/>\n      <path d=\"M 48.6875 27.296875 \nQ 48.6875 37.203125 44.609375 42.84375 \nQ 40.53125 48.484375 33.40625 48.484375 \nQ 26.265625 48.484375 22.1875 42.84375 \nQ 18.109375 37.203125 18.109375 27.296875 \nQ 18.109375 17.390625 22.1875 11.75 \nQ 26.265625 6.109375 33.40625 6.109375 \nQ 40.53125 6.109375 44.609375 11.75 \nQ 48.6875 17.390625 48.6875 27.296875 \nz\nM 18.109375 46.390625 \nQ 20.953125 51.265625 25.265625 53.625 \nQ 29.59375 56 35.59375 56 \nQ 45.5625 56 51.78125 48.09375 \nQ 58.015625 40.1875 58.015625 27.296875 \nQ 58.015625 14.40625 51.78125 6.484375 \nQ 45.5625 -1.421875 35.59375 -1.421875 \nQ 29.59375 -1.421875 25.265625 0.953125 \nQ 20.953125 3.328125 18.109375 8.203125 \nL 18.109375 0 \nL 9.078125 0 \nL 9.078125 75.984375 \nL 18.109375 75.984375 \nz\n\" id=\"DejaVuSans-98\"/>\n      <path d=\"M 30.609375 48.390625 \nQ 23.390625 48.390625 19.1875 42.75 \nQ 14.984375 37.109375 14.984375 27.296875 \nQ 14.984375 17.484375 19.15625 11.84375 \nQ 23.34375 6.203125 30.609375 6.203125 \nQ 37.796875 6.203125 41.984375 11.859375 \nQ 46.1875 17.53125 46.1875 27.296875 \nQ 46.1875 37.015625 41.984375 42.703125 \nQ 37.796875 48.390625 30.609375 48.390625 \nz\nM 30.609375 56 \nQ 42.328125 56 49.015625 48.375 \nQ 55.71875 40.765625 55.71875 27.296875 \nQ 55.71875 13.875 49.015625 6.21875 \nQ 42.328125 -1.421875 30.609375 -1.421875 \nQ 18.84375 -1.421875 12.171875 6.21875 \nQ 5.515625 13.875 5.515625 27.296875 \nQ 5.515625 40.765625 12.171875 48.375 \nQ 18.84375 56 30.609375 56 \nz\n\" id=\"DejaVuSans-111\"/>\n      <path d=\"M 4.203125 54.6875 \nL 13.1875 54.6875 \nL 24.421875 12.015625 \nL 35.59375 54.6875 \nL 46.1875 54.6875 \nL 57.421875 12.015625 \nL 68.609375 54.6875 \nL 77.59375 54.6875 \nL 63.28125 0 \nL 52.6875 0 \nL 40.921875 44.828125 \nL 29.109375 0 \nL 18.5 0 \nz\n\" id=\"DejaVuSans-119\"/>\n      <path d=\"M 9.8125 72.90625 \nL 24.515625 72.90625 \nL 43.109375 23.296875 \nL 61.8125 72.90625 \nL 76.515625 72.90625 \nL 76.515625 0 \nL 66.890625 0 \nL 66.890625 64.015625 \nL 48.09375 14.015625 \nL 38.1875 14.015625 \nL 19.390625 64.015625 \nL 19.390625 0 \nL 9.8125 0 \nz\n\" id=\"DejaVuSans-77\"/>\n      <path d=\"M 54.890625 33.015625 \nL 54.890625 0 \nL 45.90625 0 \nL 45.90625 32.71875 \nQ 45.90625 40.484375 42.875 44.328125 \nQ 39.84375 48.1875 33.796875 48.1875 \nQ 26.515625 48.1875 22.3125 43.546875 \nQ 18.109375 38.921875 18.109375 30.90625 \nL 18.109375 0 \nL 9.078125 0 \nL 9.078125 75.984375 \nL 18.109375 75.984375 \nL 18.109375 46.1875 \nQ 21.34375 51.125 25.703125 53.5625 \nQ 30.078125 56 35.796875 56 \nQ 45.21875 56 50.046875 50.171875 \nQ 54.890625 44.34375 54.890625 33.015625 \nz\n\" id=\"DejaVuSans-104\"/>\n      <path d=\"M 45.40625 46.390625 \nL 45.40625 75.984375 \nL 54.390625 75.984375 \nL 54.390625 0 \nL 45.40625 0 \nL 45.40625 8.203125 \nQ 42.578125 3.328125 38.25 0.953125 \nQ 33.9375 -1.421875 27.875 -1.421875 \nQ 17.96875 -1.421875 11.734375 6.484375 \nQ 5.515625 14.40625 5.515625 27.296875 \nQ 5.515625 40.1875 11.734375 48.09375 \nQ 17.96875 56 27.875 56 \nQ 33.9375 56 38.25 53.625 \nQ 42.578125 51.265625 45.40625 46.390625 \nz\nM 14.796875 27.296875 \nQ 14.796875 17.390625 18.875 11.75 \nQ 22.953125 6.109375 30.078125 6.109375 \nQ 37.203125 6.109375 41.296875 11.75 \nQ 45.40625 17.390625 45.40625 27.296875 \nQ 45.40625 37.203125 41.296875 42.84375 \nQ 37.203125 48.484375 30.078125 48.484375 \nQ 22.953125 48.484375 18.875 42.84375 \nQ 14.796875 37.203125 14.796875 27.296875 \nz\n\" id=\"DejaVuSans-100\"/>\n     </defs>\n     <use xlink:href=\"#DejaVuSans-87\"/>\n     <use x=\"98.876953\" xlink:href=\"#DejaVuSans-67\"/>\n     <use x=\"168.701172\" xlink:href=\"#DejaVuSans-83\"/>\n     <use x=\"232.177734\" xlink:href=\"#DejaVuSans-83\"/>\n     <use x=\"295.654297\" xlink:href=\"#DejaVuSans-32\"/>\n     <use x=\"327.441406\" xlink:href=\"#DejaVuSans-69\"/>\n     <use x=\"390.625\" xlink:href=\"#DejaVuSans-108\"/>\n     <use x=\"418.408203\" xlink:href=\"#DejaVuSans-98\"/>\n     <use x=\"481.884766\" xlink:href=\"#DejaVuSans-111\"/>\n     <use x=\"543.066406\" xlink:href=\"#DejaVuSans-119\"/>\n     <use x=\"624.853516\" xlink:href=\"#DejaVuSans-32\"/>\n     <use x=\"656.640625\" xlink:href=\"#DejaVuSans-77\"/>\n     <use x=\"742.919922\" xlink:href=\"#DejaVuSans-101\"/>\n     <use x=\"804.443359\" xlink:href=\"#DejaVuSans-116\"/>\n     <use x=\"843.652344\" xlink:href=\"#DejaVuSans-104\"/>\n     <use x=\"907.03125\" xlink:href=\"#DejaVuSans-111\"/>\n     <use x=\"968.212891\" xlink:href=\"#DejaVuSans-100\"/>\n    </g>\n   </g>\n  </g>\n </g>\n <defs>\n  <clipPath id=\"pdd29f95e10\">\n   <rect height=\"326.16\" width=\"781.2\" x=\"53.328125\" y=\"22.318125\"/>\n  </clipPath>\n </defs>\n</svg>\n",
      "image/png": "[encoded data removed]"
     },
     "metadata": {
      "needs_background": "light"
     }
    }
   ],
   "source": [
    "# tuning cluster count\n",
    "wcss = []\n",
    "X_train = df_rfm.loc[:, ['RecencyScore', 'FrequencyScore', 'MonetaryValueScore']].to_numpy(dtype = 'int')\n",
    "for i in range(1, 15):\n",
    "    wcss.append(KMeans(n_clusters = i, random_state = 42).fit(X_train).inertia_)\n",
    "fig, ax = plt.subplots()\n",
    "fig.set_size_inches(14, 6)\n",
    "ax.plot(range(1, 15), wcss)\n",
    "ax.set_title('WCSS Elbow Method')\n",
    "ax.set_xlabel('Clusters')\n",
    "ax.set_ylabel('WCSS')\n",
    "plt.show()"
   ]
  },
  {
   "source": [
    "This section is a bit more loosely defined, since the number of clusters here would likely be defined in the business requirements. Nonetheless, a quick elbow method highlights an optimal cluster count of 4. "
   ],
   "cell_type": "markdown",
   "metadata": {}
  },
  {
   "cell_type": "code",
   "execution_count": 19,
   "metadata": {},
   "outputs": [
    {
     "output_type": "stream",
     "name": "stderr",
     "text": [
      "<ipython-input-19-a71baed3d0cb>:4: FutureWarning: Indexing with multiple keys (implicitly converted to a tuple of keys) will be deprecated, use a list instead.\n  df_rfm.groupby('Segment')['RecencyScore', 'FrequencyScore', 'MonetaryValueScore'].mean()\n"
     ]
    },
    {
     "output_type": "execute_result",
     "data": {
      "text/plain": [
       "         RecencyScore  FrequencyScore  MonetaryValueScore\n",
       "Segment                                                  \n",
       "0            3.971388        1.246066            0.257511\n",
       "1            2.693099        0.105932            0.010896\n",
       "2            0.619174        0.019973            0.011984\n",
       "3            4.000000        0.000000            0.019802"
      ],
      "text/html": "<div>\n<style scoped>\n    .dataframe tbody tr th:only-of-type {\n        vertical-align: middle;\n    }\n\n    .dataframe tbody tr th {\n        vertical-align: top;\n    }\n\n    .dataframe thead th {\n        text-align: right;\n    }\n</style>\n<table border=\"1\" class=\"dataframe\">\n  <thead>\n    <tr style=\"text-align: right;\">\n      <th></th>\n      <th>RecencyScore</th>\n      <th>FrequencyScore</th>\n      <th>MonetaryValueScore</th>\n    </tr>\n    <tr>\n      <th>Segment</th>\n      <th></th>\n      <th></th>\n      <th></th>\n    </tr>\n  </thead>\n  <tbody>\n    <tr>\n      <th>0</th>\n      <td>3.971388</td>\n      <td>1.246066</td>\n      <td>0.257511</td>\n    </tr>\n    <tr>\n      <th>1</th>\n      <td>2.693099</td>\n      <td>0.105932</td>\n      <td>0.010896</td>\n    </tr>\n    <tr>\n      <th>2</th>\n      <td>0.619174</td>\n      <td>0.019973</td>\n      <td>0.011984</td>\n    </tr>\n    <tr>\n      <th>3</th>\n      <td>4.000000</td>\n      <td>0.000000</td>\n      <td>0.019802</td>\n    </tr>\n  </tbody>\n</table>\n</div>"
     },
     "metadata": {},
     "execution_count": 19
    }
   ],
   "source": [
    "# differentiating clusters by features\n",
    "labels = KMeans(n_clusters = 4, random_state = 42).fit(X_train).labels_\n",
    "df_rfm['Segment'] = labels\n",
    "df_rfm.groupby('Segment')['RecencyScore', 'FrequencyScore', 'MonetaryValueScore'].mean()"
   ]
  },
  {
   "source": [
    "Labels for each of the above four segments could be as follows:\n",
    "\n",
    "    0. Ole reliable: your most reliable and largest revenue producing crowd; those most worth keeping happy (also likely highest lifetime value customers)\n",
    "    1. Needs encouragement: recent shoppers who are semi-reliable; lower lifetime value than above but still potentially worth chasing\n",
    "    2. Lost cause: likely one-and-done shoppers from a while back, the least likely to become valuable customers; lowest lifetime value\n",
    "    3. The backup's backup: recent new shoppers, high risk and potentially high reward; second lowest lifetime value"
   ],
   "cell_type": "markdown",
   "metadata": {}
  },
  {
   "source": [
    "Keep in mind that while the above descriptions are subjective, they do stand in as reasonable interpretations of the customer segmentation results. They help to paint a picture of the four largest customer segments and their likely purchasing behaviour. They also imply a rough order of lifetime value, signaling which segments are worth spending more money to retain."
   ],
   "cell_type": "markdown",
   "metadata": {}
  }
 ]
}